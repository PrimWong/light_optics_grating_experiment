{
  "nbformat": 4,
  "nbformat_minor": 0,
  "metadata": {
    "colab": {
      "provenance": [],
      "mount_file_id": "1yHDSBs5j7VdEsu-oQvoi11kQupCuUXNT",
      "authorship_tag": "ABX9TyPPsz62GxipBKD+FWIfC5g3",
      "include_colab_link": true
    },
    "kernelspec": {
      "name": "python3",
      "display_name": "Python 3"
    },
    "language_info": {
      "name": "python"
    }
  },
  "cells": [
    {
      "cell_type": "markdown",
      "metadata": {
        "id": "view-in-github",
        "colab_type": "text"
      },
      "source": [
        "<a href=\"https://colab.research.google.com/github/PrimWong/light_optics_grating_experiment/blob/main/Prim_Light_Optics.ipynb\" target=\"_parent\"><img src=\"https://colab.research.google.com/assets/colab-badge.svg\" alt=\"Open In Colab\"/></a>"
      ]
    },
    {
      "cell_type": "markdown",
      "source": [
        "# Prim Laser Distance Detection"
      ],
      "metadata": {
        "id": "85RzRG7ho488"
      }
    },
    {
      "cell_type": "code",
      "source": [
        "from google.colab import drive\n",
        "drive.mount('/content/drive')"
      ],
      "metadata": {
        "colab": {
          "base_uri": "https://localhost:8080/"
        },
        "id": "qXW7ZiPSsXDc",
        "outputId": "76529636-6929-4482-d206-ca44a50838de"
      },
      "execution_count": 1,
      "outputs": [
        {
          "output_type": "stream",
          "name": "stdout",
          "text": [
            "Mounted at /content/drive\n"
          ]
        }
      ]
    },
    {
      "cell_type": "code",
      "source": [
        "img_dir = '/content/drive/MyDrive/Physic_data/processed_image'"
      ],
      "metadata": {
        "id": "TYa1y_tqhVFO"
      },
      "execution_count": 2,
      "outputs": []
    },
    {
      "cell_type": "code",
      "source": [
        "from PIL import Image\n",
        "import numpy as np\n",
        "\n",
        "# Open the image file\n",
        "with Image.open(\"/content/drive/MyDrive/Physic_data/processed_image/4555_0.jpg\") as img:\n",
        "    # Convert image to grayscale\n",
        "    gray_img = img.convert(\"L\")\n",
        "\n",
        "    # Convert image data to a numpy array\n",
        "    image_array = np.array(gray_img)\n",
        "\n",
        "    # Since the points are white and the background is not, we can use a high threshold to find the white points\n",
        "    # Threshold value close to 255 (white) to identify the white points\n",
        "    threshold = 250\n",
        "    white_points = np.where(image_array > threshold)\n",
        "\n",
        "    # The `np.where` function returns a tuple of arrays, one for each dimension of the array,\n",
        "    # where the truth value of the array is non-zero\n",
        "    # Here we are interested in the x-coordinates (i.e., the second array) because we want to measure the horizontal distance\n",
        "    x_coords = white_points[1]\n",
        "\n",
        "    # Sort the x-coordinates to ensure we have them in order from left to right\n",
        "    sorted_x_coords = np.sort(x_coords)\n",
        "\n",
        "# We are interested only in the first occurrence of each white point since they are horizontally aligned\n",
        "# Thus, we'll find the unique set of x-coordinates, assuming a point's width does not exceed a certain number of pixels\n",
        "# We'll assume a max width of 5 pixels for a white point\n",
        "unique_x_coords = sorted_x_coords[np.unique(sorted_x_coords, return_index=True)[1]]\n",
        "\n",
        "# Calculate the distances between the consecutive white points\n",
        "distances = np.diff(unique_x_coords)\n",
        "\n",
        "distances\n"
      ],
      "metadata": {
        "colab": {
          "base_uri": "https://localhost:8080/"
        },
        "id": "x7iKuwRLouIa",
        "outputId": "cf1d4732-0467-4977-d2d8-f72f739249e1"
      },
      "execution_count": 3,
      "outputs": [
        {
          "output_type": "execute_result",
          "data": {
            "text/plain": [
              "array([6, 5, 1, ..., 1, 1, 1])"
            ]
          },
          "metadata": {},
          "execution_count": 3
        }
      ]
    },
    {
      "cell_type": "code",
      "source": [
        "import cv2\n",
        "\n",
        "# Load the image\n",
        "image = cv2.imread(\"/content/drive/MyDrive/Physic_data/processed_image/4555_0.jpg\")\n",
        "\n",
        "# Convert the image to grayscale\n",
        "gray = cv2.cvtColor(image, cv2.COLOR_BGR2GRAY)\n",
        "\n",
        "# Threshold the image to get the white points (dots)\n",
        "_, thresholded = cv2.threshold(gray, 250, 255, cv2.THRESH_BINARY)\n",
        "\n",
        "# Find contours of the white points\n",
        "contours, _ = cv2.findContours(thresholded, cv2.RETR_EXTERNAL, cv2.CHAIN_APPROX_SIMPLE)\n",
        "\n",
        "# Calculate the center of the contours\n",
        "centers = []\n",
        "for contour in contours:\n",
        "    M = cv2.moments(contour)\n",
        "    # To avoid division by zero check if the area (M[\"m00\"]) is not zero\n",
        "    if M[\"m00\"] != 0:\n",
        "        center_x = int(M[\"m10\"] / M[\"m00\"])\n",
        "        center_y = int(M[\"m01\"] / M[\"m00\"])\n",
        "        centers.append((center_x, center_y))\n",
        "\n",
        "# Sort the center points based on x coordinate\n",
        "centers_sorted = sorted(centers, key=lambda point: point[0])\n",
        "\n",
        "# Assuming the contours of interest are the three with the largest area\n",
        "# This is because the white points are the most significant features on the graph line\n",
        "largest_contours = sorted(contours, key=cv2.contourArea, reverse=True)[:3]\n",
        "\n",
        "# Calculate the center of the largest contours\n",
        "largest_centers = []\n",
        "for contour in largest_contours:\n",
        "    M = cv2.moments(contour)\n",
        "    if M[\"m00\"] != 0:\n",
        "        center_x = int(M[\"m10\"] / M[\"m00\"])\n",
        "        center_y = int(M[\"m01\"] / M[\"m00\"])\n",
        "        largest_centers.append((center_x, center_y))\n",
        "\n",
        "# Sort these centers based on x coordinate as well\n",
        "largest_centers_sorted = sorted(largest_centers, key=lambda point: point[0])\n",
        "\n",
        "# Calculate the distances between the consecutive white points\n",
        "if len(largest_centers_sorted) >= 2:\n",
        "    distance_1 = largest_centers_sorted[1][0] - largest_centers_sorted[0][0]\n",
        "    distance_2 = largest_centers_sorted[2][0] - largest_centers_sorted[1][0]\n",
        "    distances_between_points = (distance_1, distance_2)\n",
        "else:\n",
        "    distances_between_points = ()\n",
        "\n",
        "distances_between_points\n"
      ],
      "metadata": {
        "colab": {
          "base_uri": "https://localhost:8080/"
        },
        "id": "HFG1t5FZpHd9",
        "outputId": "a5d83809-818c-4b5d-d07e-640ac048b467"
      },
      "execution_count": 4,
      "outputs": [
        {
          "output_type": "execute_result",
          "data": {
            "text/plain": [
              "(555, 568)"
            ]
          },
          "metadata": {},
          "execution_count": 4
        }
      ]
    },
    {
      "cell_type": "code",
      "source": [
        "# First, we need to redefine 'w' as the width of the image. This was lost due to the stateless nature of the interaction.\n",
        "# Re-open the image to get its width\n",
        "with Image.open(\"/content/drive/MyDrive/Physic_data/processed_image/4555_0.jpg\") as img:\n",
        "    w, h = img.size  # width and height of the image\n",
        "\n",
        "# The user has now provided the complete scale which is from 12.2 to 0 and then from 0 to 10.7.\n",
        "# The total number of units across the width of the image is therefore 12.2 + 10.7.\n",
        "total_scale_units_corrected = 12.2 + 10.7\n",
        "\n",
        "# The distance between the two '0' points is equal to the width of the image\n",
        "distance_between_zeros_px_corrected = w\n",
        "\n",
        "# Calculate the pixel distance of one scale unit with the updated total scale units\n",
        "scale_unit_px_corrected = distance_between_zeros_px_corrected / total_scale_units_corrected\n",
        "\n",
        "# Convert the pixel distances between white points into scale units with the corrected scale\n",
        "distances_in_scale_units_corrected = [d / scale_unit_px_corrected for d in distances_between_points]\n",
        "\n",
        "scale_unit_px_corrected, distances_in_scale_units_corrected\n"
      ],
      "metadata": {
        "colab": {
          "base_uri": "https://localhost:8080/"
        },
        "id": "8yndjOXWrsgN",
        "outputId": "fd380b7d-213c-4574-ceea-8f23237c08bd"
      },
      "execution_count": 5,
      "outputs": [
        {
          "output_type": "execute_result",
          "data": {
            "text/plain": [
              "(130.13100436681225, [4.264932885906039, 4.3648322147651])"
            ]
          },
          "metadata": {},
          "execution_count": 5
        }
      ]
    },
    {
      "cell_type": "code",
      "source": [
        "# First, we need to redefine 'w' as the width of the image. This was lost due to the stateless nature of the interaction.\n",
        "# Re-open the image to get its width\n",
        "with Image.open(\"/content/drive/MyDrive/Physic_data/processed_image/4555_0.jpg\") as img:\n",
        "    w, h = img.size  # width and height of the image\n",
        "\n",
        "# The user has now provided the complete scale which is from 12.2 to 0 and then from 0 to 10.7.\n",
        "# The total number of units across the width of the image is therefore 12.2 + 10.7.\n",
        "total_scale_units_corrected = 12.2 + 10.7\n",
        "\n",
        "# The distance between the two '0' points is equal to the width of the image\n",
        "distance_between_zeros_px_corrected = w\n",
        "\n",
        "# Calculate the pixel distance of one scale unit with the updated total scale units\n",
        "scale_unit_px_corrected = distance_between_zeros_px_corrected / total_scale_units_corrected\n",
        "\n",
        "# Convert the pixel distances between white points into scale units with the corrected scale\n",
        "distances_in_scale_units_corrected = [d / scale_unit_px_corrected for d in distances_between_points]\n",
        "\n",
        "distances_in_scale_units_corrected\n"
      ],
      "metadata": {
        "colab": {
          "base_uri": "https://localhost:8080/"
        },
        "id": "VIBpdJrB5sjd",
        "outputId": "7d815d34-85e6-4bf2-b267-8bb26204a1ae"
      },
      "execution_count": 14,
      "outputs": [
        {
          "output_type": "execute_result",
          "data": {
            "text/plain": [
              "[4.264932885906039, 4.3648322147651]"
            ]
          },
          "metadata": {},
          "execution_count": 14
        }
      ]
    },
    {
      "cell_type": "code",
      "source": [
        "import math\n",
        "\n",
        "# Given L\n",
        "L = 13\n",
        "\n",
        "# Distances in units from the previous calculation\n",
        "first_distance_units = distances_in_scale_units_corrected[0]\n",
        "second_distance_units = distances_in_scale_units_corrected[1]\n",
        "\n",
        "# Calculate the angles using the inverse tangent function\n",
        "theta_1 = math.atan(first_distance_units / L)\n",
        "theta_2 = math.atan(second_distance_units / L)\n",
        "\n",
        "# Convert the angles from radians to degrees for a more common understanding\n",
        "theta_1_degrees = math.degrees(theta_1)\n",
        "theta_2_degrees = math.degrees(theta_2)\n",
        "\n",
        "# Calculate theta_average\n",
        "theta_average_degrees = (theta_1_degrees + theta_2_degrees) / 2\n",
        "\n",
        "# Convert theta_average to radians for calculation of sine\n",
        "theta_average_radians = math.radians(theta_average_degrees)\n",
        "\n",
        "# Calculate sin(theta_average)\n",
        "sin_theta_average = math.sin(theta_average_radians)\n",
        "\n",
        "# Given value of d\n",
        "d = 1.8955e-6  # in meters\n",
        "\n",
        "# Calculate lambda using the formula lambda = d * sin(theta_average)\n",
        "lambda_value = d * sin_theta_average\n",
        "\n",
        "theta_average_degrees, sin_theta_average, lambda_value\n",
        "# Convert lambda value from meters to nanometers\n",
        "lambda_value_nm = lambda_value * 1e9  # 1 meter = 1e9 nanometers\n",
        "\n",
        "lambda_value_nm"
      ],
      "metadata": {
        "colab": {
          "base_uri": "https://localhost:8080/"
        },
        "id": "90s5HjN4t9PE",
        "outputId": "1dbe9997-3b0e-4ed5-b3b6-acc287c5daaa"
      },
      "execution_count": 13,
      "outputs": [
        {
          "output_type": "execute_result",
          "data": {
            "text/plain": [
              "597.1041226122119"
            ]
          },
          "metadata": {},
          "execution_count": 13
        }
      ]
    },
    {
      "cell_type": "code",
      "source": [
        "import math\n",
        "\n",
        "def calculate_wavelength(L, N):\n",
        "    # Convert N from lines per inch to lines per meter (1 inch = 0.0254 meters)\n",
        "    N_per_meter = N / 0.0254\n",
        "\n",
        "    # Calculate d as the reciprocal of N (in meters)\n",
        "    d = 1 / N_per_meter\n",
        "\n",
        "    # Distances in units from previous calculations\n",
        "    first_distance_units = distances_in_scale_units_corrected[0]\n",
        "    second_distance_units = distances_in_scale_units_corrected[1]\n",
        "\n",
        "    # Calculate the angles using the inverse tangent function\n",
        "    theta_1 = math.atan(first_distance_units / L)\n",
        "    theta_2 = math.atan(second_distance_units / L)\n",
        "\n",
        "    # Convert the angles from radians to degrees\n",
        "    theta_1_degrees = math.degrees(theta_1)\n",
        "    theta_2_degrees = math.degrees(theta_2)\n",
        "\n",
        "    # Calculate theta_average in degrees\n",
        "    theta_average_degrees = (theta_1_degrees + theta_2_degrees) / 2\n",
        "\n",
        "    # Convert theta_average to radians for calculation of sine\n",
        "    theta_average_radians = math.radians(theta_average_degrees)\n",
        "\n",
        "    # Calculate sin(theta_average)\n",
        "    sin_theta_average = math.sin(theta_average_radians)\n",
        "\n",
        "    # Calculate lambda using the formula lambda = d * sin(theta_average)\n",
        "    lambda_value = d * sin_theta_average\n",
        "\n",
        "    # Convert lambda value from meters to nanometers (1 meter = 1e9 nanometers)\n",
        "    lambda_value_nm = lambda_value * 1e9\n",
        "\n",
        "    return theta_average_degrees, sin_theta_average, lambda_value_nm\n",
        "\n",
        "L = float(input(\"Enter the value for L (distance in graph units, suggested value = 13): \"))\n",
        "N = int(input(\"Enter the value for N (number of lines per inch in the grating, suggested value = 13400): \"))\n",
        "\n",
        "theta_avg, sin_theta_avg, lambda_nm = calculate_wavelength(L,N)\n",
        "print(f\"Theta Average (Degrees): {theta_avg}\")\n",
        "print(f\"Sin(Theta Average): {sin_theta_avg}\")\n",
        "print(f\"Lambda (nm): {lambda_nm:.2f} nm\")"
      ],
      "metadata": {
        "colab": {
          "base_uri": "https://localhost:8080/"
        },
        "id": "Mz28e1UU7FHy",
        "outputId": "3530fc86-98a2-4460-e62a-4ee742856f66"
      },
      "execution_count": 19,
      "outputs": [
        {
          "output_type": "stream",
          "name": "stdout",
          "text": [
            "Enter the value for L (distance in graph units, suggested value = 13): 13\n",
            "Enter the value for N (number of lines per inch in the grating, suggested value = 13400): 13400\n",
            "Theta Average (Degrees): 18.361502445758095\n",
            "Sin(Theta Average): 0.31501140733960004\n",
            "Lambda (nm): 597.11 nm\n"
          ]
        }
      ]
    }
  ]
}