{
  "cells": [
    {
      "cell_type": "markdown",
      "metadata": {
        "id": "view-in-github",
        "colab_type": "text"
      },
      "source": [
        "<a href=\"https://colab.research.google.com/github/PrimWong/light_optics_grating_experiment/blob/main/DataExtraction.ipynb\" target=\"_parent\"><img src=\"https://colab.research.google.com/assets/colab-badge.svg\" alt=\"Open In Colab\"/></a>"
      ]
    },
    {
      "cell_type": "markdown",
      "metadata": {
        "id": "poKoVUnScfDg"
      },
      "source": [
        "# Data Extraction\n",
        "\n",
        "## Parsing Y- axis Ticks and Y- vals\n",
        "This code parses the x and y axes (horizontal and vertical axes) detection for the y-ticks, calculates the ratio to normalize the figure contents, specifically the bar plots with respect to the y-ticks and finally connects the evaluated y-values with their correspinding legends using clustering algorithm.\n",
        "* Note that all the figures recorded have their respective dois as a unique key of identification."
      ]
    },
    {
      "cell_type": "code",
      "execution_count": 15,
      "metadata": {
        "id": "Rcc1LTjjcfDl"
      },
      "outputs": [],
      "source": [
        "import cv2, imutils, re, sys, math\n",
        "import json, os #xlsxwriter,\n",
        "import matplotlib.pyplot as plt\n",
        "import numpy as np\n",
        "from pathlib import Path\n",
        "from matplotlib import rcParams"
      ]
    },
    {
      "cell_type": "code",
      "source": [
        "from google.colab import drive\n",
        "drive.mount('/content/drive')"
      ],
      "metadata": {
        "colab": {
          "base_uri": "https://localhost:8080/"
        },
        "id": "Q1SjUHD8gzZO",
        "outputId": "80c0944a-3a78-4dc6-c900-1adfe402d52f"
      },
      "execution_count": 5,
      "outputs": [
        {
          "output_type": "stream",
          "name": "stdout",
          "text": [
            "Drive already mounted at /content/drive; to attempt to forcibly remount, call drive.mount(\"/content/drive\", force_remount=True).\n"
          ]
        }
      ]
    },
    {
      "cell_type": "code",
      "source": [
        "!git clone https://github.com/Cvrane/ChartReader.git"
      ],
      "metadata": {
        "colab": {
          "base_uri": "https://localhost:8080/"
        },
        "id": "Rc9kbuNKiIV5",
        "outputId": "ea285cdb-f8cd-4c20-d1c0-b7ade2923ac0"
      },
      "execution_count": 6,
      "outputs": [
        {
          "output_type": "stream",
          "name": "stdout",
          "text": [
            "Cloning into 'ChartReader'...\n",
            "remote: Enumerating objects: 497, done.\u001b[K\n",
            "remote: Counting objects: 100% (3/3), done.\u001b[K\n",
            "remote: Compressing objects: 100% (3/3), done.\u001b[K\n",
            "remote: Total 497 (delta 0), reused 0 (delta 0), pack-reused 494\u001b[K\n",
            "Receiving objects: 100% (497/497), 235.31 MiB | 27.65 MiB/s, done.\n",
            "Resolving deltas: 100% (256/256), done.\n"
          ]
        }
      ]
    },
    {
      "cell_type": "code",
      "execution_count": 52,
      "metadata": {
        "id": "JwxlYTK2cfDn"
      },
      "outputs": [],
      "source": [
        "# Directory of images to run the code on\n",
        "img_dir = '/content/drive/MyDrive/Physic_data/processed_image'"
      ]
    },
    {
      "cell_type": "markdown",
      "metadata": {
        "id": "--7phV40cfDn"
      },
      "source": [
        "### Using json to parse the captions and dois for each image"
      ]
    },
    {
      "cell_type": "code",
      "source": [
        "%cd /content/ChartReader"
      ],
      "metadata": {
        "colab": {
          "base_uri": "https://localhost:8080/"
        },
        "id": "vVxOBTbmiT9x",
        "outputId": "4198685f-c288-4c2f-ae9c-f8c4141fb828"
      },
      "execution_count": 10,
      "outputs": [
        {
          "output_type": "stream",
          "name": "stdout",
          "text": [
            "/content/ChartReader\n"
          ]
        }
      ]
    },
    {
      "cell_type": "code",
      "execution_count": 16,
      "metadata": {
        "id": "ZRK4BJDpcfDo"
      },
      "outputs": [],
      "source": [
        "with open('/content/ChartReader/data/urldata.json') as handler:\n",
        "    urldata = json.load(handler)"
      ]
    },
    {
      "cell_type": "code",
      "execution_count": 18,
      "metadata": {
        "id": "nsnaBFvmcfDp"
      },
      "outputs": [],
      "source": [
        "with open('/content/ChartReader/data/doi_data.json') as doihandler:\n",
        "    doidata = json.load(doihandler)"
      ]
    },
    {
      "cell_type": "code",
      "execution_count": 19,
      "metadata": {
        "id": "xPovLvhAcfDp"
      },
      "outputs": [],
      "source": [
        "with open('/content/ChartReader/data/ocr-image-text.json') as ocrhandler:\n",
        "    images_text = json.load(ocrhandler)"
      ]
    },
    {
      "cell_type": "code",
      "execution_count": 21,
      "metadata": {
        "id": "jOf7Q1tGcfDp"
      },
      "outputs": [],
      "source": [
        "with open('/content/ChartReader/data/aws-rekognition-output.json') as awshandler:\n",
        "    bbox_text = json.load(awshandler)"
      ]
    },
    {
      "cell_type": "markdown",
      "metadata": {
        "id": "VEPmhnZTcfDq"
      },
      "source": [
        "### Function to detect x-axis and y-axis for a plot"
      ]
    },
    {
      "cell_type": "code",
      "execution_count": 22,
      "metadata": {
        "id": "wfuYsgFrcfDq"
      },
      "outputs": [],
      "source": [
        "def findMaxConsecutiveOnes(nums) -> int:\n",
        "    count = maxCount = 0\n",
        "\n",
        "    for i in range(len(nums)):\n",
        "        if nums[i] == 1:\n",
        "            count += 1\n",
        "        else:\n",
        "            maxCount = max(count, maxCount)\n",
        "            count = 0\n",
        "\n",
        "    return max(count, maxCount)"
      ]
    },
    {
      "cell_type": "code",
      "execution_count": 23,
      "metadata": {
        "id": "OPY6grp8cfDr"
      },
      "outputs": [],
      "source": [
        "def detectAxes(filepath, threshold=None, debug=False):\n",
        "    if filepath is None:\n",
        "        return None, None\n",
        "\n",
        "    if threshold is None:\n",
        "        threshold = 10\n",
        "\n",
        "    image = cv2.imread(filepath)\n",
        "    height, width, channels = image.shape\n",
        "\n",
        "    gray = cv2.cvtColor(image, cv2.COLOR_BGR2GRAY)\n",
        "\n",
        "    maxConsecutiveOnes = [findMaxConsecutiveOnes(gray[:, idx] < 200) for idx in range(width)]\n",
        "    start_idx, maxindex, maxcount = 0, 0, max(maxConsecutiveOnes)\n",
        "    while start_idx < width:\n",
        "        if abs(maxConsecutiveOnes[start_idx] - maxcount) <= threshold:\n",
        "            maxindex = start_idx\n",
        "            break\n",
        "\n",
        "        start_idx += 1\n",
        "\n",
        "    yaxis = (maxindex, 0, maxindex, height)\n",
        "\n",
        "    if debug:\n",
        "        fig, ax = plt.subplots(1, 2)\n",
        "\n",
        "        ax[0].imshow(image)\n",
        "\n",
        "        ax[1].plot(maxConsecutiveOnes, color = 'k')\n",
        "        ax[1].axhline(y = max(maxConsecutiveOnes) - 10, color = 'r', linestyle = 'dashed')\n",
        "        ax[1].axhline(y = max(maxConsecutiveOnes) + 10, color = 'r', linestyle = 'dashed')\n",
        "        ax[1].vlines(x = maxindex, ymin = 0.0, ymax = maxConsecutiveOnes[maxindex], color = 'b', linewidth = 4)\n",
        "\n",
        "        plt.show()\n",
        "\n",
        "    maxConsecutiveOnes = [findMaxConsecutiveOnes(gray[idx, :] < 200) for idx in range(height)]\n",
        "    start_idx, maxindex, maxcount = 0, 0, max(maxConsecutiveOnes)\n",
        "    while start_idx < height:\n",
        "        if abs(maxConsecutiveOnes[start_idx] - maxcount) <= threshold:\n",
        "            maxindex = start_idx\n",
        "\n",
        "        start_idx += 1\n",
        "\n",
        "    cv2.line(image, (0, maxindex), (width, maxindex),  (255, 0, 0), 2)\n",
        "    xaxis = (0, maxindex, width, maxindex)\n",
        "\n",
        "    if debug:\n",
        "        rcParams['figure.figsize'] = 15, 8\n",
        "\n",
        "        fig, ax = plt.subplots(1, 1)\n",
        "        ax.imshow(image, aspect = 'auto')\n",
        "\n",
        "    return xaxis, yaxis"
      ]
    },
    {
      "cell_type": "code",
      "execution_count": 24,
      "metadata": {
        "id": "NPGC4vMZcfDt"
      },
      "outputs": [],
      "source": [
        "def cleanText(image_text):\n",
        "\n",
        "    return [(text, (textx, texty, w, h)) for text, (textx, texty, w, h) in image_text if text.strip() != 'I']"
      ]
    },
    {
      "cell_type": "code",
      "execution_count": 25,
      "metadata": {
        "id": "j-_-QmPZcfDu"
      },
      "outputs": [],
      "source": [
        "def getProbableLabels(image, image_text, xaxis, yaxis):\n",
        "    y_labels = []\n",
        "    x_labels = []\n",
        "    legends = []\n",
        "    y_text_list = []\n",
        "\n",
        "    height, width, channels = image.shape\n",
        "\n",
        "    (x1, y1, x2, y2) = xaxis\n",
        "    (x11, y11, x22, y22) = yaxis\n",
        "\n",
        "    image_text = cleanText(image_text)\n",
        "\n",
        "    for text, (textx, texty, w, h) in image_text:\n",
        "        text = text.strip()\n",
        "\n",
        "        # To the left of y-axis and top of x-axis\n",
        "        if (np.sign((x2 - x1) * (texty - y1) - (y2 - y1) * (textx - x1)) == -1 and\n",
        "            np.sign((x22 - x11) * (texty - y11) - (y22 - y11) * (textx - x11)) == 1):\n",
        "\n",
        "            numbers = re.findall(r'^[+-]?\\d+(?:\\.\\d+)?[%-]?$', text)\n",
        "            if bool(numbers):\n",
        "                y_labels.append((text, (textx, texty, w, h)))\n",
        "            else:\n",
        "                y_text_list.append((text, (textx, texty, w, h)))\n",
        "\n",
        "        # To the right of y-axis and bottom of x-axis\n",
        "        elif (np.sign((x2 - x1) * (texty - y1) - (y2 - y1) * (textx - x1)) == 1 and\n",
        "            np.sign((x22 - x11) * (texty - y11) - (y22 - y11) * (textx - x11)) == -1):\n",
        "            x_labels.append((text, (textx, texty, w, h)))\n",
        "\n",
        "        # Top of x-axis and to the right of y-axis\n",
        "        elif (np.sign((x2 - x1) * (texty - y1) - (y2 - y1) * (textx - x1)) == -1 and\n",
        "            np.sign((x22 - x11) * (texty - y11) - (y22 - y11) * (textx - x11)) == -1):\n",
        "\n",
        "            # Consider non-numeric only for legends\n",
        "            legends.append((text, (textx, texty, w, h)))\n",
        "\n",
        "    # Get the y-labels by finding the maximum\n",
        "    # intersections with the sweeping line\n",
        "    maxIntersection = 0\n",
        "    maxList = []\n",
        "    for i in range(x11):\n",
        "        count = 0\n",
        "        current = []\n",
        "        for index, (text, rect) in enumerate(y_labels):\n",
        "            if lineIntersectsRectX(i, rect):\n",
        "                count += 1\n",
        "                current.append(y_labels[index])\n",
        "\n",
        "        if count > maxIntersection:\n",
        "            maxIntersection = count\n",
        "            maxList = current\n",
        "\n",
        "    y_labels_list = maxList.copy()\n",
        "\n",
        "    y_labels = []\n",
        "    for text, (textx, texty, w, h) in maxList:\n",
        "        y_labels.append(text)\n",
        "\n",
        "    # Get the x-labels by finding the maximum\n",
        "    # intersections with the sweeping line\n",
        "\n",
        "    maxIntersection = 0\n",
        "    maxList = []\n",
        "    for i in range(y1, height):\n",
        "        count = 0\n",
        "        current = []\n",
        "        for index, (text, rect) in enumerate(x_labels):\n",
        "            if lineIntersectsRectY(i, rect):\n",
        "                count += 1\n",
        "                current.append(x_labels[index])\n",
        "\n",
        "        if count > maxIntersection:\n",
        "            maxIntersection = count\n",
        "            maxList = current\n",
        "\n",
        "    x_labels_list = maxList.copy()\n",
        "\n",
        "    x_text = x_labels.copy()\n",
        "    x_labels = []\n",
        "    hmax = 0\n",
        "\n",
        "    for text, (textx, texty, w, h) in maxList:\n",
        "        x_labels.append(text)\n",
        "        if texty + h > hmax:\n",
        "            hmax = texty + h\n",
        "\n",
        "    # Get possible x-text by moving from where we\n",
        "    # left off in x-labels to the complete\n",
        "    # height of the image.\n",
        "    maxIntersection = 0\n",
        "    maxList = []\n",
        "    for i in range(hmax + 1, height):\n",
        "        count = 0\n",
        "        current = []\n",
        "        for index, (text, rect) in enumerate(x_text):\n",
        "            if lineIntersectsRectY(i, rect):\n",
        "                count += 1\n",
        "                current.append(x_text[index])\n",
        "\n",
        "        if count > maxIntersection:\n",
        "            maxIntersection = count\n",
        "            maxList = current\n",
        "\n",
        "    x_text = []\n",
        "    for text, (textx, texty, w, h) in maxList:\n",
        "        x_text.append(text)\n",
        "\n",
        "    # Get possible legend text\n",
        "    # For this, we need to search both top to\n",
        "    # bottom and also from left to right.\n",
        "\n",
        "    legends_and_numbers = mergeTextBoxes(legends)\n",
        "\n",
        "    legends = []\n",
        "    for text, (textx, texty, w, h) in legends_and_numbers:\n",
        "        if not re.search(r'^([(+-]*?(\\d+)?(?:\\.\\d+)*?[-%) ]*?)*$', text):\n",
        "            legends.append((text, (textx, texty, w, h)))\n",
        "\n",
        "\n",
        "    def canMerge(group, candidate):\n",
        "        candText, candRect = candidate\n",
        "        candx, candy, candw, candh = candRect\n",
        "\n",
        "        for memText, memRect in group:\n",
        "            memx, memy, memw, memh = memRect\n",
        "\n",
        "            if abs(candy - memy) <= 5 and abs(candy + candh - memy - memh) <= 5:\n",
        "                return True\n",
        "            elif abs(candx - memx) <= 5:\n",
        "                return True\n",
        "\n",
        "        return False\n",
        "\n",
        "    # Grouping Algorithm\n",
        "    legend_groups = []\n",
        "    for index, (text, rect) in enumerate(legends):\n",
        "        #print(\"text: {0}, rect: {1}\\n\".format(text, rect))\n",
        "\n",
        "        for groupid, group in enumerate(legend_groups):\n",
        "            if canMerge(group, (text, rect)):\n",
        "                group.append((text, rect))\n",
        "                break\n",
        "        else:\n",
        "            legend_groups.append([(text, rect)])\n",
        "\n",
        "    #print(legend_groups)\n",
        "    #print(\"\\n\\n\")\n",
        "\n",
        "    maxList = []\n",
        "\n",
        "    if len(legend_groups) > 0:\n",
        "        maxList = max(legend_groups, key = len)\n",
        "\n",
        "    legends = []\n",
        "    for text, (textx, texty, w, h) in maxList:\n",
        "        legends.append(text)\n",
        "\n",
        "    return image, x_labels, x_labels_list, x_text, y_labels, y_labels_list, y_text_list, legends, maxList"
      ]
    },
    {
      "cell_type": "code",
      "execution_count": 26,
      "metadata": {
        "id": "rsmqOLA-cfDw"
      },
      "outputs": [],
      "source": [
        "def lineIntersectsRectX(candx, rect):\n",
        "    (x, y, w, h) = rect\n",
        "\n",
        "    if x <= candx <= x + w:\n",
        "        return True\n",
        "    else:\n",
        "        return False\n",
        "\n",
        "def lineIntersectsRectY(candy, rect):\n",
        "    (x, y, w, h) = rect\n",
        "\n",
        "    if y <= candy <= y + h:\n",
        "        return True\n",
        "    else:\n",
        "        return False"
      ]
    },
    {
      "cell_type": "markdown",
      "metadata": {
        "id": "r65QLQe5cfDw"
      },
      "source": [
        "## Getting the Ratio for y-value matching\n",
        "\n",
        "Similar to the label detection logic, y-ticks are detected:\n",
        "\n",
        "Y-ticks\n",
        "\n",
        "*  Check only the numerical boxes which are to the left of y-axis and to the top of x-axis.\n",
        "*  Run a line sweep from left end of the image to the y-axis position, and check when the sweeping line intersects with the maximum number of numerical boxes.\n",
        "* The numerical boxes are then used as bounding boxes for calculating the y-ticks.\n",
        "\n",
        "Ratio:\n",
        "* Difference between the y-ticks is then calculated.  \n",
        "* Only consider the mean difference between the y-ticks, rejecting the outliers from the calculated values.\n",
        "* Finally, the value-tick ratio to normalize the heights of the bounding boxes is calculated by:  \n",
        "\n",
        "$$\n",
        "ratio  = \\frac{\\Delta ticks_{average} }{y\\;ticks_{average}}\n",
        "$$\n"
      ]
    },
    {
      "cell_type": "code",
      "execution_count": 27,
      "metadata": {
        "id": "DlTG6aeLcfDx"
      },
      "outputs": [],
      "source": [
        "def getRatio(path, xaxis, yaxis):\n",
        "    list_text = []\n",
        "    list_ticks = []\n",
        "\n",
        "    filepath = img_dir + \"/\" + path.name\n",
        "\n",
        "    image = cv2.imread(filepath)\n",
        "    image = cv2.cvtColor(image, cv2.COLOR_BGR2RGB)\n",
        "    height, width, channels = image.shape\n",
        "\n",
        "    image_text = images_text[path.name]\n",
        "\n",
        "    for text, (textx, texty, w, h) in image_text:\n",
        "        text = text.strip()\n",
        "\n",
        "        (x1, y1, x2, y2) = xaxis\n",
        "        (x11, y11, x22, y22) = yaxis\n",
        "\n",
        "        # To the left of y-axis and top of x-axis\n",
        "        if (np.sign((x2 - x1) * (texty - y1) - (y2 - y1) * (textx - x1)) == -1 and\n",
        "            np.sign((x22 - x11) * (texty - y11) - (y22 - y11) * (textx - x11)) == 1):\n",
        "\n",
        "            # Consider numeric only for ticks on y-axis\n",
        "            numbers = re.findall(r'\\d+(?:\\.\\d+)?', text)\n",
        "            if bool(numbers):\n",
        "                list_text.append((numbers[0], (textx, texty, w, h)))\n",
        "\n",
        "    # Get the y-labels by finding the maximum\n",
        "    # intersections with the sweeping line\n",
        "    maxIntersection = 0\n",
        "    maxList = []\n",
        "    for i in range(x11):\n",
        "        count = 0\n",
        "        current = []\n",
        "        for index, (text, rect) in enumerate(list_text):\n",
        "            if lineIntersectsRectX(i, rect):\n",
        "                count += 1\n",
        "                current.append(list_text[index])\n",
        "\n",
        "        if count > maxIntersection:\n",
        "            maxIntersection = count\n",
        "            maxList = current\n",
        "\n",
        "    # Get list of text and ticks\n",
        "    list_text = []\n",
        "    for text, (textx, texty, w, h) in maxList:\n",
        "        list_text.append(float(text))\n",
        "        list_ticks.append(float(texty + h))\n",
        "\n",
        "    text_sorted = (sorted(list_text))\n",
        "    ticks_sorted  = (sorted(list_ticks))\n",
        "\n",
        "    ticks_diff = ([ticks_sorted[i] - ticks_sorted[i-1] for i in range(1, len(ticks_sorted))])\n",
        "    text_diff = ([text_sorted[i] - text_sorted[i-1] for i in range(1, len(text_sorted))])\n",
        "    print(\"[get text-to-tick ratio] ticks_diff: {0}, text_diff: {1}\".format(ticks_diff, text_diff))\n",
        "\n",
        "    # Detected text may not be perfect! Remove the outliers.\n",
        "    ticks_diff = reject_outliers(np.array(ticks_diff), m=1)\n",
        "    text_diff = reject_outliers(np.array(text_diff), m=1)\n",
        "    print(\"[reject_outliers] ticks_diff: {0}, text_diff: {1}\".format(ticks_diff, text_diff))\n",
        "\n",
        "    normalize_ratio = np.array(text_diff).mean() / np.array(ticks_diff).mean()\n",
        "\n",
        "    return text_sorted, normalize_ratio"
      ]
    },
    {
      "cell_type": "code",
      "execution_count": 28,
      "metadata": {
        "id": "fJ1GmFaqcfDy"
      },
      "outputs": [],
      "source": [
        "def lineIntersectsRectX(candx, rect):\n",
        "    (x, y, w, h) = rect\n",
        "\n",
        "    if x <= candx <= x + w:\n",
        "        return True\n",
        "    else:\n",
        "        return False\n",
        "\n",
        "def lineIntersectsRectY(candy, rect):\n",
        "    (x, y, w, h) = rect\n",
        "\n",
        "    if y <= candy <= y + h:\n",
        "        return True\n",
        "    else:\n",
        "        return False"
      ]
    },
    {
      "cell_type": "code",
      "execution_count": 29,
      "metadata": {
        "id": "S95Auhz8cfDy"
      },
      "outputs": [],
      "source": [
        "def reject_outliers(data, m=1):\n",
        "    return data[abs(data - np.mean(data)) <= m * np.std(data)]"
      ]
    },
    {
      "cell_type": "markdown",
      "metadata": {
        "id": "7CGSf74KcfDz"
      },
      "source": [
        "## Writing to Excel workbook"
      ]
    },
    {
      "cell_type": "code",
      "execution_count": 30,
      "metadata": {
        "id": "wWE65a7RcfDz"
      },
      "outputs": [],
      "source": [
        "def addToExcel(dataname, data, row):\n",
        "    col = 0\n",
        "\n",
        "    worksheet.write(row, col, dataname)\n",
        "    for content in data:\n",
        "        col += 1\n",
        "        worksheet.write(row, col, content)"
      ]
    },
    {
      "cell_type": "markdown",
      "metadata": {
        "id": "dN9GLueGcfDz"
      },
      "source": [
        "## Matching the ratio for final data extraction\n",
        "\n",
        "Y-val data:\n",
        "    - The height of each bounding box is recorded by the help of the merging rectangles during Cluster count\n",
        "    estimation method.\n",
        "    - Eventually, we used the ratio to calculate the y-values as:\n",
        "\n",
        "$$\n",
        "y_{values}  =  ratio \\times height_{bounding\\;box}\n",
        "$$\n"
      ]
    },
    {
      "cell_type": "code",
      "execution_count": 31,
      "metadata": {
        "id": "Rdn9897YcfD0"
      },
      "outputs": [],
      "source": [
        "def mergeRects(contours, mode='contours'):\n",
        "    rects = []\n",
        "    rectsUsed = []\n",
        "\n",
        "    # Just initialize bounding rects and set all bools to false\n",
        "    for cnt in contours:\n",
        "        if mode == 'contours':\n",
        "            rects.append(cv2.boundingRect(cnt))\n",
        "        elif mode == 'rects':\n",
        "            rects.append(cnt)\n",
        "\n",
        "        rectsUsed.append(False)\n",
        "\n",
        "    # Sort bounding rects by x coordinate\n",
        "    def getXFromRect(item):\n",
        "        return item[0]\n",
        "\n",
        "    rects.sort(key = getXFromRect)\n",
        "\n",
        "    # Array of accepted rects\n",
        "    acceptedRects = []\n",
        "\n",
        "    # Merge threshold for x coordinate distance\n",
        "    xThr = 5\n",
        "    yThr = 5\n",
        "\n",
        "    # Iterate all initial bounding rects\n",
        "    for supIdx, supVal in enumerate(rects):\n",
        "        if (rectsUsed[supIdx] == False):\n",
        "\n",
        "            # Initialize current rect\n",
        "            currxMin = supVal[0]\n",
        "            currxMax = supVal[0] + supVal[2]\n",
        "            curryMin = supVal[1]\n",
        "            curryMax = supVal[1] + supVal[3]\n",
        "\n",
        "            # This bounding rect is used\n",
        "            rectsUsed[supIdx] = True\n",
        "\n",
        "            # Iterate all initial bounding rects\n",
        "            # starting from the next\n",
        "            for subIdx, subVal in enumerate(rects[(supIdx+1):], start = (supIdx+1)):\n",
        "\n",
        "                # Initialize merge candidate\n",
        "                candxMin = subVal[0]\n",
        "                candxMax = subVal[0] + subVal[2]\n",
        "                candyMin = subVal[1]\n",
        "                candyMax = subVal[1] + subVal[3]\n",
        "\n",
        "                # Check if x distance between current rect\n",
        "                # and merge candidate is small enough\n",
        "                if (candxMin <= currxMax + xThr):\n",
        "\n",
        "                    if not nearbyRectangle((candxMin, candyMin, candxMax - candxMin, candyMax - candyMin),\n",
        "                                           (currxMin, curryMin, currxMax - currxMin, curryMax - curryMin), yThr):\n",
        "                        break\n",
        "\n",
        "                    # Reset coordinates of current rect\n",
        "                    currxMax = candxMax\n",
        "                    curryMin = min(curryMin, candyMin)\n",
        "                    curryMax = max(curryMax, candyMax)\n",
        "\n",
        "                    # Merge candidate (bounding rect) is used\n",
        "                    rectsUsed[subIdx] = True\n",
        "                else:\n",
        "                    break\n",
        "\n",
        "            # No more merge candidates possible, accept current rect\n",
        "            acceptedRects.append([currxMin, curryMin, currxMax - currxMin, curryMax - curryMin])\n",
        "\n",
        "    return acceptedRects"
      ]
    },
    {
      "cell_type": "code",
      "execution_count": 45,
      "metadata": {
        "id": "ahH0-1GMcfD0"
      },
      "outputs": [],
      "source": [
        "def mergeTextBoxes(textboxes):\n",
        "    rects = []\n",
        "    rectsUsed = []\n",
        "\n",
        "    # Just initialize bounding rects and set all bools to false\n",
        "    for box in textboxes:\n",
        "        rects.append(box)\n",
        "        rectsUsed.append(False)\n",
        "\n",
        "    # Sort bounding rects by x coordinate\n",
        "    def getXFromRect(item):\n",
        "        return item[1][0]\n",
        "\n",
        "    def getYFromRect(item):\n",
        "        return item[1][1]\n",
        "\n",
        "    rects.sort(key = lambda x: (getYFromRect, getXFromRect))\n",
        "\n",
        "    # Array of accepted rects\n",
        "    acceptedRects = []\n",
        "\n",
        "    # Merge threshold for x coordinate distance\n",
        "    xThr = 10\n",
        "    yThr = 0\n",
        "\n",
        "    # Iterate all initial bounding rects\n",
        "    for supIdx, supVal in enumerate(rects):\n",
        "        if (rectsUsed[supIdx] == False):\n",
        "\n",
        "            # Initialize current rect\n",
        "            currxMin = supVal[1][0]\n",
        "            currxMax = supVal[1][0] + supVal[1][2]\n",
        "            curryMin = supVal[1][1]\n",
        "            curryMax = supVal[1][1] + supVal[1][3]\n",
        "            currText = supVal[0]\n",
        "\n",
        "            # This bounding rect is used\n",
        "            rectsUsed[supIdx] = True\n",
        "\n",
        "            # Iterate all initial bounding rects\n",
        "            # starting from the next\n",
        "            for subIdx, subVal in enumerate(rects[(supIdx+1):], start = (supIdx+1)):\n",
        "\n",
        "                # Initialize merge candidate\n",
        "                candxMin = subVal[1][0]\n",
        "                candxMax = subVal[1][0] + subVal[1][2]\n",
        "                candyMin = subVal[1][1]\n",
        "                candyMax = subVal[1][1] + subVal[1][3]\n",
        "                candText = subVal[0]\n",
        "\n",
        "                # Check if x distance between current rect\n",
        "                # and merge candidate is small enough\n",
        "                if (candxMin <= currxMax + xThr):\n",
        "\n",
        "                    if not nearbyRectangle((candxMin, candyMin, candxMax - candxMin, candyMax - candyMin),\n",
        "                                           (currxMin, curryMin, currxMax - currxMin, curryMax - curryMin), yThr):\n",
        "                        break\n",
        "\n",
        "                    # Reset coordinates of current rect\n",
        "                    currxMax = candxMax\n",
        "                    curryMin = min(curryMin, candyMin)\n",
        "                    curryMax = max(curryMax, candyMax)\n",
        "                    currText = currText + ' ' + candText\n",
        "\n",
        "                    # Merge candidate (bounding rect) is used\n",
        "                    rectsUsed[subIdx] = True\n",
        "                else:\n",
        "                    break\n",
        "\n",
        "            # No more merge candidates possible, accept current rect\n",
        "            acceptedRects.append([currText, (currxMin, curryMin, currxMax - currxMin, curryMax - curryMin)])\n",
        "\n",
        "    return acceptedRects"
      ]
    },
    {
      "cell_type": "code",
      "execution_count": 33,
      "metadata": {
        "id": "olf8fptTcfD2"
      },
      "outputs": [],
      "source": [
        "def nearbyRectangle(current, candidate, threshold):\n",
        "    (currx, curry, currw, currh) = current\n",
        "    (candx, candy, candw, candh) = candidate\n",
        "\n",
        "    currxmin = currx\n",
        "    currymin = curry\n",
        "    currxmax = currx + currw\n",
        "    currymax = curry + currh\n",
        "\n",
        "    candxmin = candx\n",
        "    candymin = candy\n",
        "    candxmax = candx + candw\n",
        "    candymax = candy + candh\n",
        "\n",
        "    # If candidate is on top, and is close\n",
        "    if candymax <= currymin and candymax + threshold >= currymin:\n",
        "        return True\n",
        "\n",
        "    # If candidate is on bottom and is close\n",
        "    if candymin >= currymax and currymax + threshold >= candymin:\n",
        "        return True\n",
        "\n",
        "    # If intersecting at the top, merge it\n",
        "    if candymax >= currymin and candymin <= currymin:\n",
        "        return True\n",
        "\n",
        "    # If intersecting at the bottom, merge it\n",
        "    if currymax >= candymin and currymin <= candymin:\n",
        "        return True\n",
        "\n",
        "    # If intersecting on the sides or is inside, merge it\n",
        "    if (candymin >= currymin and\n",
        "        candymin <= currymax and\n",
        "        candymax >= currymin and\n",
        "        candymax <= currymax):\n",
        "        return True\n",
        "\n",
        "    return False"
      ]
    },
    {
      "cell_type": "code",
      "execution_count": 34,
      "metadata": {
        "id": "BvBn4i2XcfD3"
      },
      "outputs": [],
      "source": [
        "def euclidean(v1, v2):\n",
        "    return sum((p - q) ** 2 for p, q in zip(v1, v2)) ** .5\n",
        "\n",
        "def angle_between(p1, p2):\n",
        "\n",
        "    deltaX = p1[0] - p2[0]\n",
        "    deltaY = p1[1] - p2[1]\n",
        "\n",
        "    return math.atan2(deltaY, deltaX) / math.pi * 180\n",
        "\n",
        "def RectDist(rectA, rectB):\n",
        "    (rectAx, rectAy, rectAw, rectAh) = rectA\n",
        "    (rectBx, rectBy, rectBw, rectBh) = rectB\n",
        "\n",
        "    return abs(rectAx + rectAx / 2 - rectBx - rectBx / 2)"
      ]
    },
    {
      "cell_type": "code",
      "execution_count": 35,
      "metadata": {
        "id": "YuOGsAr1cfD3"
      },
      "outputs": [],
      "source": [
        "def getProbableYLabels(image, contours, xaxis, yaxis):\n",
        "    y_labels = []\n",
        "\n",
        "    height, width, channels = image.shape\n",
        "\n",
        "    (x1, y1, x2, y2) = xaxis\n",
        "    (x11, y11, x22, y22) = yaxis\n",
        "\n",
        "    # Get the y-labels by finding the maximum\n",
        "    # intersections with the sweeping line\n",
        "    maxIntersection = 0\n",
        "    maxList = []\n",
        "    for i in range(x11):\n",
        "        count = 0\n",
        "        current = []\n",
        "        for index, rect in enumerate(contours):\n",
        "            if lineIntersectsRectX(i, rect):\n",
        "                count += 1\n",
        "                current.append(contours[index])\n",
        "\n",
        "        if count > maxIntersection:\n",
        "            maxIntersection = count\n",
        "            maxList = current\n",
        "\n",
        "    return image, maxList"
      ]
    },
    {
      "cell_type": "code",
      "execution_count": 36,
      "metadata": {
        "id": "Wce6Cr4OcfD3"
      },
      "outputs": [],
      "source": [
        "def expand(points, margin):\n",
        "    return np.array([\n",
        "        [[points[0][0][0] - margin, points[0][0][1] - margin]],\n",
        "        [[points[1][0][0] + margin, points[1][0][1] - margin]],\n",
        "        [[points[2][0][0] + margin, points[2][0][1] + margin]],\n",
        "        [[points[3][0][0] - margin, points[3][0][1] + margin]]])"
      ]
    },
    {
      "cell_type": "markdown",
      "metadata": {
        "id": "7MqT9IPicfD4"
      },
      "source": [
        "## Saving y-values in our data excel sheet"
      ]
    },
    {
      "cell_type": "code",
      "execution_count": 59,
      "metadata": {
        "id": "8EF1BSi0cfD4"
      },
      "outputs": [],
      "source": [
        "images = []\n",
        "texts = []\n",
        "\n",
        "def getYVal(img_dir):\n",
        "    yValueDict = {}\n",
        "    for index, path in enumerate(Path(img_dir).iterdir()):\n",
        "        if path.name.endswith('.png') or path.name.endswith('.jpg'):\n",
        "            filepath = img_dir + \"/\" + path.name\n",
        "            print(filepath)\n",
        "            img = cv2.imread(filepath)\n",
        "            img = cv2.cvtColor(img, cv2.COLOR_BGR2RGB)\n",
        "            img_height, img_width, _ = img.shape\n",
        "\n",
        "            # Axes detection\n",
        "            xaxis, yaxis = detectAxes(filepath)\n",
        "\n",
        "            for (x1, y1, x2, y2) in [xaxis]:\n",
        "                xaxis = (x1, y1, x2, y2)\n",
        "\n",
        "            for (x1, y1, x2, y2) in [yaxis]:\n",
        "                yaxis = (x1, y1, x2, y2)\n",
        "\n",
        "            print(path.name)\n",
        "\n",
        "            image_text = images_text[path.name]\n",
        "            img, x_labels, x_labels_list, _, _, _, _, legends, legendBoxes = getProbableLabels(img, image_text, xaxis, yaxis)\n",
        "            actual_image = img.copy()\n",
        "\n",
        "            try:\n",
        "                print(path)\n",
        "                list_text, normalize_ratio = getRatio(path, xaxis, yaxis)\n",
        "                print(\"[getYVal] legends: {0}\".format(legends))\n",
        "                print(\"[{0}] path: {1}, ratio: {2}\".format(index, path.name, normalize_ratio), end='\\n\\n')\n",
        "\n",
        "                texts = bbox_text[path.name]['TextDetections']\n",
        "\n",
        "                for text in texts:\n",
        "                    if text['Type'] == 'WORD' and text['Confidence'] >= 80:\n",
        "                        vertices = [[vertex['X'] * img_width, vertex['Y'] * img_height] for vertex in text['Geometry']['Polygon']]\n",
        "                        vertices = np.array(vertices, np.int32)\n",
        "                        vertices = vertices.reshape((-1, 1, 2))\n",
        "\n",
        "                        img = cv2.fillPoly(img, [expand(vertices, 1)], (255, 255, 255))\n",
        "\n",
        "                gray = cv2.cvtColor(img, cv2.COLOR_BGR2GRAY)\n",
        "                threshold = cv2.threshold(gray, 200, 255, cv2.THRESH_BINARY)[1]\n",
        "\n",
        "                contours, _ = cv2.findContours(threshold, cv2.RETR_TREE, cv2.CHAIN_APPROX_SIMPLE)\n",
        "                contours = [contour for contour in contours if cv2.contourArea(contour) < 0.01 * img_height * img_width]\n",
        "\n",
        "                contours = [cv2.approxPolyDP(contour, 3, True) for contour in contours]\n",
        "                rects = [cv2.boundingRect(contour) for contour in contours]\n",
        "\n",
        "                groups = []\n",
        "                legendtexts = []\n",
        "                legendrects = []\n",
        "\n",
        "                for box in legendBoxes:\n",
        "                    text, (textx, texty, width, height) = box\n",
        "                    bboxes = filterBbox(rects, box)\n",
        "\n",
        "                    if bboxes is not None:\n",
        "                        for rect in [bboxes]:\n",
        "                            (x, y, w, h) = rect\n",
        "                            legendrects.append(rect)\n",
        "\n",
        "                            group = boxGroup(actual_image, rect)[0]\n",
        "                            group = [arr.tolist() for arr in group]\n",
        "\n",
        "                            groups.append(group)\n",
        "                            legendtexts.append(text)\n",
        "\n",
        "                            cv2.rectangle(img, (x, y), (x + w, y + h), (0, 255, 0), 3)\n",
        "\n",
        "                        cv2.rectangle(img, (textx, texty), (textx + width, texty + height), (255, 0, 0), 2)\n",
        "\n",
        "                data = {}\n",
        "                for legend in legends:\n",
        "                    data[legend] = {}\n",
        "\n",
        "                    for x_label, box in x_labels_list:\n",
        "                        data[legend][x_label] = 0.0\n",
        "\n",
        "                for i in range(len(groups)):\n",
        "\n",
        "                    img = cv2.imread(img_dir + \"/\" + path.name)\n",
        "                    img = cv2.cvtColor(img, cv2.COLOR_BGR2RGB)\n",
        "                    legendtext = legendtexts[i]\n",
        "\n",
        "                    for box in legendrects:\n",
        "                        (textx, texty, width, height) = box\n",
        "                        cv2.rectangle(img, (textx, texty), (textx + width, texty + height), (255, 255, 255), cv2.FILLED)\n",
        "\n",
        "                    mask = None\n",
        "                    for value in groups[i]:\n",
        "                        COLOR_MIN = np.array([value[0], value[1], value[2]], np.uint8)\n",
        "                        COLOR_MAX = np.array([value[0], value[1], value[2]], np.uint8)\n",
        "\n",
        "                        if mask is None:\n",
        "                            mask = cv2.inRange(img, COLOR_MIN, COLOR_MAX)\n",
        "                        else:\n",
        "                            mask = mask | cv2.inRange(img, COLOR_MIN, COLOR_MAX)\n",
        "\n",
        "                    image = cv2.bitwise_and(img, img, mask = mask)\n",
        "                    image = cv2.morphologyEx(image, cv2.MORPH_CLOSE, (3, 3))\n",
        "\n",
        "                    edged = cv2.Canny(image, 0, 250)\n",
        "                    contours, _ = cv2.findContours(edged, cv2.RETR_EXTERNAL, cv2.CHAIN_APPROX_SIMPLE)\n",
        "                    contours = [contour for contour in contours if cv2.contourArea(contour) > 0.]\n",
        "\n",
        "                    # Remove noisy ones!\n",
        "                    if len(contours) == 0 or len(contours) > 100:\n",
        "                        continue\n",
        "\n",
        "                    contours = [cv2.approxPolyDP(contour, 3, True) for contour in contours]\n",
        "\n",
        "                    rects = mergeRects(contours)\n",
        "                    textBoxes = []\n",
        "                    labels = []\n",
        "\n",
        "                    for rectBox in rects:\n",
        "                        min_distance = sys.maxsize\n",
        "                        closestBox = None\n",
        "                        labeltext = None\n",
        "\n",
        "                        for text, textBox in x_labels_list:\n",
        "                            if RectDist(rectBox, textBox) < min_distance:\n",
        "                                closestBox = textBox\n",
        "                                min_distance = RectDist(rectBox, textBox)\n",
        "                                labeltext = text\n",
        "\n",
        "                        textBoxes.append(closestBox)\n",
        "                        labels.append(labeltext)\n",
        "\n",
        "                    list_len = []\n",
        "\n",
        "                    for rect in rects:\n",
        "                        list_len.append((rect, float(rect[3])))\n",
        "\n",
        "                    # y-values will be a product of the normalize ratio and each length\n",
        "                    y_val = [(rect, round(l* normalize_ratio, 1)) for rect, l in list_len]\n",
        "\n",
        "                    for x_label, box in x_labels_list:\n",
        "                        (x, y, w, h) = box\n",
        "                        value = 0.0\n",
        "                        closest = None\n",
        "                        dist = sys.maxsize\n",
        "\n",
        "                        for index, item in enumerate(y_val):\n",
        "                            if labels[index] == x_label:\n",
        "                                (vx, vy, vw, vh) = item[0]\n",
        "                                if abs(x + w/2 - vx - vw/2) < dist:\n",
        "                                    dist = abs(x + w/2 - vx - vw/2)\n",
        "                                    closest = item[0]\n",
        "                                    value = item[1]\n",
        "\n",
        "                        data[legendtext][x_label] = value\n",
        "\n",
        "                yValueDict[path.name] = data\n",
        "\n",
        "            except Exception as e:\n",
        "                print(e)\n",
        "                continue\n",
        "\n",
        "    return yValueDict"
      ]
    },
    {
      "cell_type": "code",
      "execution_count": 47,
      "metadata": {
        "id": "PxOHYLzDcfD5"
      },
      "outputs": [],
      "source": [
        "def filterBbox(rects, legendBox):\n",
        "    text, (textx, texty, width, height) = legendBox\n",
        "\n",
        "    filtered = []\n",
        "    for rect in rects:\n",
        "        (x, y, w, h) = rect\n",
        "        if abs(y - texty) <= 10 and abs(y - texty + h - height) <= 10:\n",
        "            filtered.append(rect)\n",
        "\n",
        "    filtered = mergeRects(filtered, 'rects')\n",
        "\n",
        "    closest = None\n",
        "    dist = sys.maxsize\n",
        "    for rect in filtered:\n",
        "        (x, y, w, h) = rect\n",
        "        if abs(x + w - textx) <= dist:\n",
        "            dist = abs(x + w - textx)\n",
        "            closest = rect\n",
        "\n",
        "    return closest"
      ]
    },
    {
      "cell_type": "code",
      "execution_count": 48,
      "metadata": {
        "id": "WiB-kIN_cfD6"
      },
      "outputs": [],
      "source": [
        "def boxGroup(img, box):\n",
        "    (x, y, w, h) = box\n",
        "\n",
        "    image = img[y:y+h, x:x+w].reshape((h * w, 3))\n",
        "    values, counts = np.unique(image, axis = 0, return_counts = True)\n",
        "\n",
        "    # Remove white and near-by pixels\n",
        "    threshold = 5\n",
        "    for r in range(255 - threshold, 256):\n",
        "        for g in range(255 - threshold, 256):\n",
        "            for b in range(255 - threshold, 256):\n",
        "                image = image[np.where((image != [r, g, b]).any(axis = 1))]\n",
        "\n",
        "    values, counts = np.unique(image, axis = 0, return_counts = True)\n",
        "\n",
        "    sort_indices = np.argsort(-counts)\n",
        "    values, counts = values[sort_indices], counts[sort_indices]\n",
        "\n",
        "    groups = []\n",
        "    groupcounts = []\n",
        "\n",
        "    for idx, value in enumerate(values):\n",
        "        grouped = False\n",
        "\n",
        "        for groupid, group in enumerate(groups):\n",
        "            for member in group:\n",
        "                r, g, b = member\n",
        "                vr, vg, vb = value\n",
        "\n",
        "                if (abs(vr.astype(np.int16) - r.astype(np.int16)) <= 5 and\n",
        "                    abs(vg.astype(np.int16) - g.astype(np.int16)) <= 5 and\n",
        "                    abs(vb.astype(np.int16) - b.astype(np.int16)) <= 5):\n",
        "                        group.append(value)\n",
        "                        groupcounts[groupid] += counts[idx]\n",
        "                        grouped = True\n",
        "                        break\n",
        "\n",
        "            if grouped:\n",
        "                break\n",
        "\n",
        "        if not grouped:\n",
        "            groups.append([value])\n",
        "            groupcounts.append(counts[idx])\n",
        "\n",
        "    groupcounts = np.array(groupcounts)\n",
        "    sort_indices = np.argsort(-groupcounts)\n",
        "    new_groups = [groups[i] for i in sort_indices]\n",
        "    groups = new_groups\n",
        "\n",
        "    return groups"
      ]
    },
    {
      "cell_type": "code",
      "source": [
        "%cd /content/drive/MyDrive/Physic_data"
      ],
      "metadata": {
        "colab": {
          "base_uri": "https://localhost:8080/"
        },
        "id": "MU6XW4KgjIc_",
        "outputId": "61c43d7c-442c-4d7f-94aa-59811cc7e372"
      },
      "execution_count": 41,
      "outputs": [
        {
          "output_type": "stream",
          "name": "stdout",
          "text": [
            "/content/drive/MyDrive/Physic_data\n"
          ]
        }
      ]
    },
    {
      "cell_type": "code",
      "source": [
        "!git clone https://github.com/Cvrane/ChartReader.git"
      ],
      "metadata": {
        "colab": {
          "base_uri": "https://localhost:8080/"
        },
        "id": "MrmT984UjOE3",
        "outputId": "4a6c11f1-c41b-4cd2-8501-f4b9b8cb4989"
      },
      "execution_count": 42,
      "outputs": [
        {
          "output_type": "stream",
          "name": "stdout",
          "text": [
            "Cloning into 'ChartReader'...\n",
            "remote: Enumerating objects: 497, done.\u001b[K\n",
            "remote: Counting objects: 100% (3/3), done.\u001b[K\n",
            "remote: Compressing objects: 100% (3/3), done.\u001b[K\n",
            "remote: Total 497 (delta 0), reused 0 (delta 0), pack-reused 494\u001b[K\n",
            "Receiving objects: 100% (497/497), 235.31 MiB | 14.67 MiB/s, done.\n",
            "Resolving deltas: 100% (256/256), done.\n",
            "Updating files: 100% (42/42), done.\n"
          ]
        }
      ]
    },
    {
      "cell_type": "code",
      "execution_count": 60,
      "metadata": {
        "scrolled": false,
        "colab": {
          "base_uri": "https://localhost:8080/",
          "height": 311
        },
        "id": "7BDYFe8XcfD6",
        "outputId": "0a4a0a94-22cf-43d8-aa26-cf1f21703f91"
      },
      "outputs": [
        {
          "output_type": "stream",
          "name": "stdout",
          "text": [
            "/content/drive/MyDrive/Physic_data/processed_image/4555_0.jpg\n",
            "4555_0.jpg\n"
          ]
        },
        {
          "output_type": "error",
          "ename": "KeyError",
          "evalue": "'4555_0.jpg'",
          "traceback": [
            "\u001b[0;31m---------------------------------------------------------------------------\u001b[0m",
            "\u001b[0;31mKeyError\u001b[0m                                  Traceback (most recent call last)",
            "\u001b[0;32m<ipython-input-60-90f9584c1667>\u001b[0m in \u001b[0;36m<cell line: 1>\u001b[0;34m()\u001b[0m\n\u001b[0;32m----> 1\u001b[0;31m \u001b[0myValueDict\u001b[0m \u001b[0;34m=\u001b[0m \u001b[0mgetYVal\u001b[0m\u001b[0;34m(\u001b[0m\u001b[0mimg_dir\u001b[0m\u001b[0;34m)\u001b[0m\u001b[0;34m\u001b[0m\u001b[0;34m\u001b[0m\u001b[0m\n\u001b[0m",
            "\u001b[0;32m<ipython-input-59-9b4545395eda>\u001b[0m in \u001b[0;36mgetYVal\u001b[0;34m(img_dir)\u001b[0m\n\u001b[1;32m     23\u001b[0m             \u001b[0mprint\u001b[0m\u001b[0;34m(\u001b[0m\u001b[0mpath\u001b[0m\u001b[0;34m.\u001b[0m\u001b[0mname\u001b[0m\u001b[0;34m)\u001b[0m\u001b[0;34m\u001b[0m\u001b[0;34m\u001b[0m\u001b[0m\n\u001b[1;32m     24\u001b[0m \u001b[0;34m\u001b[0m\u001b[0m\n\u001b[0;32m---> 25\u001b[0;31m             \u001b[0mimage_text\u001b[0m \u001b[0;34m=\u001b[0m \u001b[0mimages_text\u001b[0m\u001b[0;34m[\u001b[0m\u001b[0mpath\u001b[0m\u001b[0;34m.\u001b[0m\u001b[0mname\u001b[0m\u001b[0;34m]\u001b[0m\u001b[0;34m\u001b[0m\u001b[0;34m\u001b[0m\u001b[0m\n\u001b[0m\u001b[1;32m     26\u001b[0m             \u001b[0mimg\u001b[0m\u001b[0;34m,\u001b[0m \u001b[0mx_labels\u001b[0m\u001b[0;34m,\u001b[0m \u001b[0mx_labels_list\u001b[0m\u001b[0;34m,\u001b[0m \u001b[0m_\u001b[0m\u001b[0;34m,\u001b[0m \u001b[0m_\u001b[0m\u001b[0;34m,\u001b[0m \u001b[0m_\u001b[0m\u001b[0;34m,\u001b[0m \u001b[0m_\u001b[0m\u001b[0;34m,\u001b[0m \u001b[0mlegends\u001b[0m\u001b[0;34m,\u001b[0m \u001b[0mlegendBoxes\u001b[0m \u001b[0;34m=\u001b[0m \u001b[0mgetProbableLabels\u001b[0m\u001b[0;34m(\u001b[0m\u001b[0mimg\u001b[0m\u001b[0;34m,\u001b[0m \u001b[0mimage_text\u001b[0m\u001b[0;34m,\u001b[0m \u001b[0mxaxis\u001b[0m\u001b[0;34m,\u001b[0m \u001b[0myaxis\u001b[0m\u001b[0;34m)\u001b[0m\u001b[0;34m\u001b[0m\u001b[0;34m\u001b[0m\u001b[0m\n\u001b[1;32m     27\u001b[0m             \u001b[0mactual_image\u001b[0m \u001b[0;34m=\u001b[0m \u001b[0mimg\u001b[0m\u001b[0;34m.\u001b[0m\u001b[0mcopy\u001b[0m\u001b[0;34m(\u001b[0m\u001b[0;34m)\u001b[0m\u001b[0;34m\u001b[0m\u001b[0;34m\u001b[0m\u001b[0m\n",
            "\u001b[0;31mKeyError\u001b[0m: '4555_0.jpg'"
          ]
        }
      ],
      "source": [
        "yValueDict = getYVal(img_dir)"
      ]
    },
    {
      "cell_type": "code",
      "execution_count": 58,
      "metadata": {
        "scrolled": false,
        "colab": {
          "base_uri": "https://localhost:8080/",
          "height": 219
        },
        "id": "82VvqYOZcfD9",
        "outputId": "f506dea9-70b6-4301-f3e1-d6cf98e95ba5"
      },
      "outputs": [
        {
          "output_type": "error",
          "ename": "NameError",
          "evalue": "name 'yValueDict' is not defined",
          "traceback": [
            "\u001b[0;31m---------------------------------------------------------------------------\u001b[0m",
            "\u001b[0;31mNameError\u001b[0m                                 Traceback (most recent call last)",
            "\u001b[0;32m<ipython-input-58-8e8b94670275>\u001b[0m in \u001b[0;36m<cell line: 3>\u001b[0;34m()\u001b[0m\n\u001b[1;32m      3\u001b[0m \u001b[0;32mfor\u001b[0m \u001b[0mindex\u001b[0m\u001b[0;34m,\u001b[0m \u001b[0mpath\u001b[0m \u001b[0;32min\u001b[0m \u001b[0menumerate\u001b[0m\u001b[0;34m(\u001b[0m\u001b[0mPath\u001b[0m\u001b[0;34m(\u001b[0m\u001b[0mimg_dir\u001b[0m\u001b[0;34m)\u001b[0m\u001b[0;34m.\u001b[0m\u001b[0miterdir\u001b[0m\u001b[0;34m(\u001b[0m\u001b[0;34m)\u001b[0m\u001b[0;34m)\u001b[0m\u001b[0;34m:\u001b[0m\u001b[0;34m\u001b[0m\u001b[0;34m\u001b[0m\u001b[0m\n\u001b[1;32m      4\u001b[0m     \u001b[0;32mif\u001b[0m \u001b[0mpath\u001b[0m\u001b[0;34m.\u001b[0m\u001b[0mname\u001b[0m\u001b[0;34m.\u001b[0m\u001b[0mendswith\u001b[0m\u001b[0;34m(\u001b[0m\u001b[0;34m'.png'\u001b[0m\u001b[0;34m)\u001b[0m \u001b[0;32mor\u001b[0m \u001b[0mpath\u001b[0m\u001b[0;34m.\u001b[0m\u001b[0mname\u001b[0m\u001b[0;34m.\u001b[0m\u001b[0mendswith\u001b[0m\u001b[0;34m(\u001b[0m\u001b[0;34m'.jpg'\u001b[0m\u001b[0;34m)\u001b[0m \u001b[0;32mor\u001b[0m \u001b[0mpath\u001b[0m\u001b[0;34m.\u001b[0m\u001b[0mname\u001b[0m\u001b[0;34m.\u001b[0m\u001b[0mendswith\u001b[0m\u001b[0;34m(\u001b[0m\u001b[0;34m'.jpeg'\u001b[0m\u001b[0;34m)\u001b[0m\u001b[0;34m:\u001b[0m\u001b[0;34m\u001b[0m\u001b[0;34m\u001b[0m\u001b[0m\n\u001b[0;32m----> 5\u001b[0;31m         \u001b[0;32mif\u001b[0m \u001b[0mpath\u001b[0m\u001b[0;34m.\u001b[0m\u001b[0mname\u001b[0m \u001b[0;32min\u001b[0m \u001b[0myValueDict\u001b[0m\u001b[0;34m:\u001b[0m\u001b[0;34m\u001b[0m\u001b[0;34m\u001b[0m\u001b[0m\n\u001b[0m\u001b[1;32m      6\u001b[0m             \u001b[0mfilepath\u001b[0m \u001b[0;34m=\u001b[0m \u001b[0mimg_dir\u001b[0m \u001b[0;34m+\u001b[0m \u001b[0;34m\"/\"\u001b[0m \u001b[0;34m+\u001b[0m \u001b[0mpath\u001b[0m\u001b[0;34m.\u001b[0m\u001b[0mname\u001b[0m\u001b[0;34m\u001b[0m\u001b[0;34m\u001b[0m\u001b[0m\n\u001b[1;32m      7\u001b[0m             \u001b[0mprint\u001b[0m\u001b[0;34m(\u001b[0m\u001b[0;34m\"[{0}] path: {1}\"\u001b[0m\u001b[0;34m.\u001b[0m\u001b[0mformat\u001b[0m\u001b[0;34m(\u001b[0m\u001b[0mindex\u001b[0m\u001b[0;34m,\u001b[0m \u001b[0mpath\u001b[0m\u001b[0;34m.\u001b[0m\u001b[0mname\u001b[0m\u001b[0;34m)\u001b[0m\u001b[0;34m)\u001b[0m\u001b[0;34m\u001b[0m\u001b[0;34m\u001b[0m\u001b[0m\n",
            "\u001b[0;31mNameError\u001b[0m: name 'yValueDict' is not defined"
          ]
        }
      ],
      "source": [
        "#workbook = xlsxwriter.Workbook('../results/FigureData1.xlsx', {'nan_inf_to_errors': True})\n",
        "\n",
        "for index, path in enumerate(Path(img_dir).iterdir()):\n",
        "    if path.name.endswith('.png') or path.name.endswith('.jpg') or path.name.endswith('.jpeg'):\n",
        "        if path.name in yValueDict:\n",
        "            filepath = img_dir + \"/\" + path.name\n",
        "            print(\"[{0}] path: {1}\".format(index, path.name))\n",
        "\n",
        "            image = cv2.imread(filepath)\n",
        "            image = cv2.cvtColor(image, cv2.COLOR_BGR2RGB)\n",
        "\n",
        "            height, width, channels = image.shape\n",
        "            xaxis, yaxis = detectAxes(filepath)\n",
        "            y_text = []\n",
        "            print(path.name)\n",
        "\n",
        "            for (x1, y1, x2, y2) in [xaxis]:\n",
        "                xaxis = (x1, y1, x2, y2)\n",
        "\n",
        "            for (x1, y1, x2, y2) in [yaxis]:\n",
        "                yaxis = (x1, y1, x2, y2)\n",
        "\n",
        "            image_text = images_text[path.name]\n",
        "            image, x_labels, _, x_text, y_labels, y_labels_list, y_text_list, legends, _ = getProbableLabels(image,\n",
        "                                                                                                  image_text,\n",
        "                                                                                                  xaxis,\n",
        "                                                                                                  yaxis)\n",
        "\n",
        "            # Sort bounding rects by y coordinate\n",
        "            def getYFromRect(item):\n",
        "                return item[1][1]\n",
        "\n",
        "            y_labels_list.sort(key = getYFromRect)\n",
        "            y_text_list.sort(key = getYFromRect, reverse=True)\n",
        "\n",
        "            for text, (textx, texty, w, h) in y_text_list:\n",
        "                y_text.append(text)\n",
        "\n",
        "            # Append doi values for each image.\n",
        "            pdfname = '-'.join(path.name.split('-')[:-2]) + '.pdf'\n",
        "\n",
        "            if pdfname in doidata['Doi']:\n",
        "                doi = doidata['Doi'][pdfname]\n",
        "            else:\n",
        "                doi = ''\n",
        "\n",
        "            # Write to Excel\n",
        "            worksheet = workbook.add_worksheet()\n",
        "\n",
        "            addToExcel(\"doi\", doi, 0)\n",
        "            addToExcel(\"file name\", [path.name], 1)\n",
        "            addToExcel(\"x-text\", x_text, 2)\n",
        "            addToExcel(\"x-labels\", x_labels, 3)\n",
        "            addToExcel(\"y-text\", y_text, 4)\n",
        "            addToExcel(\"y-labels\", y_labels, 5)\n",
        "            addToExcel(\"legends\", legends, 6)\n",
        "\n",
        "            data = yValueDict[path.name]\n",
        "\n",
        "            column = 9\n",
        "            for legend, datadict in data.items():\n",
        "                if column == 9:\n",
        "                    addToExcel(\"\", datadict.keys(), 8)\n",
        "\n",
        "                addToExcel(legend, datadict.values(), column)\n",
        "                column += 1\n",
        "\n",
        "            # Print the output here!\n",
        "            print(\"file name    :  \", path.name)\n",
        "            print(\"doi          :  \", doi)\n",
        "            print(\"x-text       :  \", x_text)\n",
        "            print(\"x-labels     :  \", x_labels)\n",
        "            print(\"y-text       :  \", y_text)\n",
        "            print(\"y-labels     :  \", y_labels)\n",
        "            print(\"legends      :  \", legends)\n",
        "            print(\"data         :  \", data, end= \"\\n\\n\")\n",
        "\n",
        "            # Insert the image\n",
        "            worksheet.insert_image('J21', filepath)\n",
        "\n",
        "# Close the excel workbook!\n",
        "workbook.close()"
      ]
    }
  ],
  "metadata": {
    "kernelspec": {
      "display_name": "Python 3",
      "language": "python",
      "name": "python3"
    },
    "language_info": {
      "codemirror_mode": {
        "name": "ipython",
        "version": 3
      },
      "file_extension": ".py",
      "mimetype": "text/x-python",
      "name": "python",
      "nbconvert_exporter": "python",
      "pygments_lexer": "ipython3",
      "version": "3.8.6"
    },
    "colab": {
      "provenance": [],
      "toc_visible": true,
      "include_colab_link": true
    }
  },
  "nbformat": 4,
  "nbformat_minor": 0
}